{
 "cells": [
  {
   "cell_type": "markdown",
   "id": "d6ce9ac6",
   "metadata": {},
   "source": [
    "# Predictive model to predict flood based on monthly rainfall"
   ]
  },
  {
   "cell_type": "code",
   "execution_count": 1,
   "id": "61943124",
   "metadata": {},
   "outputs": [
    {
     "data": {
      "text/html": [
       "<div>\n",
       "<style scoped>\n",
       "    .dataframe tbody tr th:only-of-type {\n",
       "        vertical-align: middle;\n",
       "    }\n",
       "\n",
       "    .dataframe tbody tr th {\n",
       "        vertical-align: top;\n",
       "    }\n",
       "\n",
       "    .dataframe thead th {\n",
       "        text-align: right;\n",
       "    }\n",
       "</style>\n",
       "<table border=\"1\" class=\"dataframe\">\n",
       "  <thead>\n",
       "    <tr style=\"text-align: right;\">\n",
       "      <th></th>\n",
       "      <th>SUBDIVISION</th>\n",
       "      <th>YEAR</th>\n",
       "      <th>JAN</th>\n",
       "      <th>FEB</th>\n",
       "      <th>MAR</th>\n",
       "      <th>APR</th>\n",
       "      <th>MAY</th>\n",
       "      <th>JUN</th>\n",
       "      <th>JUL</th>\n",
       "      <th>AUG</th>\n",
       "      <th>SEP</th>\n",
       "      <th>OCT</th>\n",
       "      <th>NOV</th>\n",
       "      <th>DEC</th>\n",
       "      <th>ANNUAL RAINFALL</th>\n",
       "      <th>FLOODS</th>\n",
       "    </tr>\n",
       "  </thead>\n",
       "  <tbody>\n",
       "    <tr>\n",
       "      <th>0</th>\n",
       "      <td>KERALA</td>\n",
       "      <td>1901</td>\n",
       "      <td>28.7</td>\n",
       "      <td>44.7</td>\n",
       "      <td>51.6</td>\n",
       "      <td>160.0</td>\n",
       "      <td>174.7</td>\n",
       "      <td>824.6</td>\n",
       "      <td>743.0</td>\n",
       "      <td>357.5</td>\n",
       "      <td>197.7</td>\n",
       "      <td>266.9</td>\n",
       "      <td>350.8</td>\n",
       "      <td>48.4</td>\n",
       "      <td>3248.6</td>\n",
       "      <td>YES</td>\n",
       "    </tr>\n",
       "    <tr>\n",
       "      <th>1</th>\n",
       "      <td>KERALA</td>\n",
       "      <td>1902</td>\n",
       "      <td>6.7</td>\n",
       "      <td>2.6</td>\n",
       "      <td>57.3</td>\n",
       "      <td>83.9</td>\n",
       "      <td>134.5</td>\n",
       "      <td>390.9</td>\n",
       "      <td>1205.0</td>\n",
       "      <td>315.8</td>\n",
       "      <td>491.6</td>\n",
       "      <td>358.4</td>\n",
       "      <td>158.3</td>\n",
       "      <td>121.5</td>\n",
       "      <td>3326.6</td>\n",
       "      <td>YES</td>\n",
       "    </tr>\n",
       "    <tr>\n",
       "      <th>2</th>\n",
       "      <td>KERALA</td>\n",
       "      <td>1903</td>\n",
       "      <td>3.2</td>\n",
       "      <td>18.6</td>\n",
       "      <td>3.1</td>\n",
       "      <td>83.6</td>\n",
       "      <td>249.7</td>\n",
       "      <td>558.6</td>\n",
       "      <td>1022.5</td>\n",
       "      <td>420.2</td>\n",
       "      <td>341.8</td>\n",
       "      <td>354.1</td>\n",
       "      <td>157.0</td>\n",
       "      <td>59.0</td>\n",
       "      <td>3271.2</td>\n",
       "      <td>YES</td>\n",
       "    </tr>\n",
       "    <tr>\n",
       "      <th>3</th>\n",
       "      <td>KERALA</td>\n",
       "      <td>1904</td>\n",
       "      <td>23.7</td>\n",
       "      <td>3.0</td>\n",
       "      <td>32.2</td>\n",
       "      <td>71.5</td>\n",
       "      <td>235.7</td>\n",
       "      <td>1098.2</td>\n",
       "      <td>725.5</td>\n",
       "      <td>351.8</td>\n",
       "      <td>222.7</td>\n",
       "      <td>328.1</td>\n",
       "      <td>33.9</td>\n",
       "      <td>3.3</td>\n",
       "      <td>3129.7</td>\n",
       "      <td>YES</td>\n",
       "    </tr>\n",
       "    <tr>\n",
       "      <th>4</th>\n",
       "      <td>KERALA</td>\n",
       "      <td>1905</td>\n",
       "      <td>1.2</td>\n",
       "      <td>22.3</td>\n",
       "      <td>9.4</td>\n",
       "      <td>105.9</td>\n",
       "      <td>263.3</td>\n",
       "      <td>850.2</td>\n",
       "      <td>520.5</td>\n",
       "      <td>293.6</td>\n",
       "      <td>217.2</td>\n",
       "      <td>383.5</td>\n",
       "      <td>74.4</td>\n",
       "      <td>0.2</td>\n",
       "      <td>2741.6</td>\n",
       "      <td>NO</td>\n",
       "    </tr>\n",
       "  </tbody>\n",
       "</table>\n",
       "</div>"
      ],
      "text/plain": [
       "  SUBDIVISION  YEAR   JAN   FEB   MAR    APR    MAY     JUN     JUL    AUG  \\\n",
       "0      KERALA  1901  28.7  44.7  51.6  160.0  174.7   824.6   743.0  357.5   \n",
       "1      KERALA  1902   6.7   2.6  57.3   83.9  134.5   390.9  1205.0  315.8   \n",
       "2      KERALA  1903   3.2  18.6   3.1   83.6  249.7   558.6  1022.5  420.2   \n",
       "3      KERALA  1904  23.7   3.0  32.2   71.5  235.7  1098.2   725.5  351.8   \n",
       "4      KERALA  1905   1.2  22.3   9.4  105.9  263.3   850.2   520.5  293.6   \n",
       "\n",
       "     SEP    OCT    NOV    DEC   ANNUAL RAINFALL FLOODS  \n",
       "0  197.7  266.9  350.8   48.4            3248.6    YES  \n",
       "1  491.6  358.4  158.3  121.5            3326.6    YES  \n",
       "2  341.8  354.1  157.0   59.0            3271.2    YES  \n",
       "3  222.7  328.1   33.9    3.3            3129.7    YES  \n",
       "4  217.2  383.5   74.4    0.2            2741.6     NO  "
      ]
     },
     "execution_count": 1,
     "metadata": {},
     "output_type": "execute_result"
    }
   ],
   "source": [
    "import pandas as pd\n",
    "import numpy as np\n",
    "import matplotlib.pyplot as plt\n",
    "import seaborn as sns\n",
    "from sklearn import model_selection\n",
    "from sklearn.linear_model import LogisticRegression\n",
    "from sklearn.model_selection import train_test_split\n",
    "\n",
    "df=pd.read_csv('E:/PYTHON_PROJECTS/1PYTHON_MODEL/kerala.csv')\n",
    "df.head()"
   ]
  },
  {
   "cell_type": "markdown",
   "id": "888c15c8",
   "metadata": {},
   "source": [
    "## Exploration of the dataset"
   ]
  },
  {
   "cell_type": "code",
   "execution_count": 2,
   "id": "4ab0ef9c",
   "metadata": {},
   "outputs": [
    {
     "name": "stdout",
     "output_type": "stream",
     "text": [
      "<class 'pandas.core.frame.DataFrame'>\n",
      "RangeIndex: 118 entries, 0 to 117\n",
      "Data columns (total 16 columns):\n",
      " #   Column            Non-Null Count  Dtype  \n",
      "---  ------            --------------  -----  \n",
      " 0   SUBDIVISION       118 non-null    object \n",
      " 1   YEAR              118 non-null    int64  \n",
      " 2   JAN               118 non-null    float64\n",
      " 3   FEB               118 non-null    float64\n",
      " 4   MAR               118 non-null    float64\n",
      " 5   APR               118 non-null    float64\n",
      " 6   MAY               118 non-null    float64\n",
      " 7   JUN               118 non-null    float64\n",
      " 8   JUL               118 non-null    float64\n",
      " 9   AUG               118 non-null    float64\n",
      " 10  SEP               118 non-null    float64\n",
      " 11  OCT               118 non-null    float64\n",
      " 12  NOV               118 non-null    float64\n",
      " 13  DEC               118 non-null    float64\n",
      " 14   ANNUAL RAINFALL  118 non-null    float64\n",
      " 15  FLOODS            118 non-null    object \n",
      "dtypes: float64(13), int64(1), object(2)\n",
      "memory usage: 14.9+ KB\n"
     ]
    }
   ],
   "source": [
    "df.info()"
   ]
  },
  {
   "cell_type": "code",
   "execution_count": 3,
   "id": "1ecdfb05",
   "metadata": {},
   "outputs": [
    {
     "data": {
      "text/plain": [
       "(118, 16)"
      ]
     },
     "execution_count": 3,
     "metadata": {},
     "output_type": "execute_result"
    }
   ],
   "source": [
    "df.shape"
   ]
  },
  {
   "cell_type": "markdown",
   "id": "9fa55c39",
   "metadata": {},
   "source": [
    "# describe()\n"
   ]
  },
  {
   "cell_type": "markdown",
   "id": "c76f791f",
   "metadata": {},
   "source": [
    "The describe() function summarizes the dataset’s statistical properties, such as count, mean, min, and max:"
   ]
  },
  {
   "cell_type": "code",
   "execution_count": 4,
   "id": "53e74a85",
   "metadata": {},
   "outputs": [
    {
     "data": {
      "text/html": [
       "<div>\n",
       "<style scoped>\n",
       "    .dataframe tbody tr th:only-of-type {\n",
       "        vertical-align: middle;\n",
       "    }\n",
       "\n",
       "    .dataframe tbody tr th {\n",
       "        vertical-align: top;\n",
       "    }\n",
       "\n",
       "    .dataframe thead th {\n",
       "        text-align: right;\n",
       "    }\n",
       "</style>\n",
       "<table border=\"1\" class=\"dataframe\">\n",
       "  <thead>\n",
       "    <tr style=\"text-align: right;\">\n",
       "      <th></th>\n",
       "      <th>YEAR</th>\n",
       "      <th>JAN</th>\n",
       "      <th>FEB</th>\n",
       "      <th>MAR</th>\n",
       "      <th>APR</th>\n",
       "      <th>MAY</th>\n",
       "      <th>JUN</th>\n",
       "      <th>JUL</th>\n",
       "      <th>AUG</th>\n",
       "      <th>SEP</th>\n",
       "      <th>OCT</th>\n",
       "      <th>NOV</th>\n",
       "      <th>DEC</th>\n",
       "      <th>ANNUAL RAINFALL</th>\n",
       "    </tr>\n",
       "  </thead>\n",
       "  <tbody>\n",
       "    <tr>\n",
       "      <th>count</th>\n",
       "      <td>118.000000</td>\n",
       "      <td>118.000000</td>\n",
       "      <td>118.000000</td>\n",
       "      <td>118.000000</td>\n",
       "      <td>118.000000</td>\n",
       "      <td>118.000000</td>\n",
       "      <td>118.000000</td>\n",
       "      <td>118.000000</td>\n",
       "      <td>118.000000</td>\n",
       "      <td>118.000000</td>\n",
       "      <td>118.000000</td>\n",
       "      <td>118.000000</td>\n",
       "      <td>118.000000</td>\n",
       "      <td>118.000000</td>\n",
       "    </tr>\n",
       "    <tr>\n",
       "      <th>mean</th>\n",
       "      <td>1959.500000</td>\n",
       "      <td>12.218644</td>\n",
       "      <td>15.633898</td>\n",
       "      <td>36.670339</td>\n",
       "      <td>110.330508</td>\n",
       "      <td>228.644915</td>\n",
       "      <td>651.617797</td>\n",
       "      <td>698.220339</td>\n",
       "      <td>430.369492</td>\n",
       "      <td>246.207627</td>\n",
       "      <td>293.207627</td>\n",
       "      <td>162.311017</td>\n",
       "      <td>40.009322</td>\n",
       "      <td>2925.405085</td>\n",
       "    </tr>\n",
       "    <tr>\n",
       "      <th>std</th>\n",
       "      <td>34.207699</td>\n",
       "      <td>15.473766</td>\n",
       "      <td>16.406290</td>\n",
       "      <td>30.063862</td>\n",
       "      <td>44.633452</td>\n",
       "      <td>147.548778</td>\n",
       "      <td>186.181363</td>\n",
       "      <td>228.988966</td>\n",
       "      <td>181.980463</td>\n",
       "      <td>121.901131</td>\n",
       "      <td>93.705253</td>\n",
       "      <td>83.200485</td>\n",
       "      <td>36.676330</td>\n",
       "      <td>452.169407</td>\n",
       "    </tr>\n",
       "    <tr>\n",
       "      <th>min</th>\n",
       "      <td>1901.000000</td>\n",
       "      <td>0.000000</td>\n",
       "      <td>0.000000</td>\n",
       "      <td>0.100000</td>\n",
       "      <td>13.100000</td>\n",
       "      <td>53.400000</td>\n",
       "      <td>196.800000</td>\n",
       "      <td>167.500000</td>\n",
       "      <td>178.600000</td>\n",
       "      <td>41.300000</td>\n",
       "      <td>68.500000</td>\n",
       "      <td>31.500000</td>\n",
       "      <td>0.100000</td>\n",
       "      <td>2068.800000</td>\n",
       "    </tr>\n",
       "    <tr>\n",
       "      <th>25%</th>\n",
       "      <td>1930.250000</td>\n",
       "      <td>2.175000</td>\n",
       "      <td>4.700000</td>\n",
       "      <td>18.100000</td>\n",
       "      <td>74.350000</td>\n",
       "      <td>125.050000</td>\n",
       "      <td>535.550000</td>\n",
       "      <td>533.200000</td>\n",
       "      <td>316.725000</td>\n",
       "      <td>155.425000</td>\n",
       "      <td>222.125000</td>\n",
       "      <td>93.025000</td>\n",
       "      <td>10.350000</td>\n",
       "      <td>2613.525000</td>\n",
       "    </tr>\n",
       "    <tr>\n",
       "      <th>50%</th>\n",
       "      <td>1959.500000</td>\n",
       "      <td>5.800000</td>\n",
       "      <td>8.350000</td>\n",
       "      <td>28.400000</td>\n",
       "      <td>110.400000</td>\n",
       "      <td>184.600000</td>\n",
       "      <td>625.600000</td>\n",
       "      <td>691.650000</td>\n",
       "      <td>386.250000</td>\n",
       "      <td>223.550000</td>\n",
       "      <td>284.300000</td>\n",
       "      <td>152.450000</td>\n",
       "      <td>31.100000</td>\n",
       "      <td>2934.300000</td>\n",
       "    </tr>\n",
       "    <tr>\n",
       "      <th>75%</th>\n",
       "      <td>1988.750000</td>\n",
       "      <td>18.175000</td>\n",
       "      <td>21.400000</td>\n",
       "      <td>49.825000</td>\n",
       "      <td>136.450000</td>\n",
       "      <td>264.875000</td>\n",
       "      <td>786.975000</td>\n",
       "      <td>832.425000</td>\n",
       "      <td>500.100000</td>\n",
       "      <td>334.500000</td>\n",
       "      <td>355.150000</td>\n",
       "      <td>218.325000</td>\n",
       "      <td>54.025000</td>\n",
       "      <td>3170.400000</td>\n",
       "    </tr>\n",
       "    <tr>\n",
       "      <th>max</th>\n",
       "      <td>2018.000000</td>\n",
       "      <td>83.500000</td>\n",
       "      <td>79.000000</td>\n",
       "      <td>217.200000</td>\n",
       "      <td>238.000000</td>\n",
       "      <td>738.800000</td>\n",
       "      <td>1098.200000</td>\n",
       "      <td>1526.500000</td>\n",
       "      <td>1398.900000</td>\n",
       "      <td>526.700000</td>\n",
       "      <td>567.900000</td>\n",
       "      <td>365.600000</td>\n",
       "      <td>202.300000</td>\n",
       "      <td>4473.000000</td>\n",
       "    </tr>\n",
       "  </tbody>\n",
       "</table>\n",
       "</div>"
      ],
      "text/plain": [
       "              YEAR         JAN         FEB         MAR         APR  \\\n",
       "count   118.000000  118.000000  118.000000  118.000000  118.000000   \n",
       "mean   1959.500000   12.218644   15.633898   36.670339  110.330508   \n",
       "std      34.207699   15.473766   16.406290   30.063862   44.633452   \n",
       "min    1901.000000    0.000000    0.000000    0.100000   13.100000   \n",
       "25%    1930.250000    2.175000    4.700000   18.100000   74.350000   \n",
       "50%    1959.500000    5.800000    8.350000   28.400000  110.400000   \n",
       "75%    1988.750000   18.175000   21.400000   49.825000  136.450000   \n",
       "max    2018.000000   83.500000   79.000000  217.200000  238.000000   \n",
       "\n",
       "              MAY          JUN          JUL          AUG         SEP  \\\n",
       "count  118.000000   118.000000   118.000000   118.000000  118.000000   \n",
       "mean   228.644915   651.617797   698.220339   430.369492  246.207627   \n",
       "std    147.548778   186.181363   228.988966   181.980463  121.901131   \n",
       "min     53.400000   196.800000   167.500000   178.600000   41.300000   \n",
       "25%    125.050000   535.550000   533.200000   316.725000  155.425000   \n",
       "50%    184.600000   625.600000   691.650000   386.250000  223.550000   \n",
       "75%    264.875000   786.975000   832.425000   500.100000  334.500000   \n",
       "max    738.800000  1098.200000  1526.500000  1398.900000  526.700000   \n",
       "\n",
       "              OCT         NOV         DEC   ANNUAL RAINFALL  \n",
       "count  118.000000  118.000000  118.000000        118.000000  \n",
       "mean   293.207627  162.311017   40.009322       2925.405085  \n",
       "std     93.705253   83.200485   36.676330        452.169407  \n",
       "min     68.500000   31.500000    0.100000       2068.800000  \n",
       "25%    222.125000   93.025000   10.350000       2613.525000  \n",
       "50%    284.300000  152.450000   31.100000       2934.300000  \n",
       "75%    355.150000  218.325000   54.025000       3170.400000  \n",
       "max    567.900000  365.600000  202.300000       4473.000000  "
      ]
     },
     "execution_count": 4,
     "metadata": {},
     "output_type": "execute_result"
    }
   ],
   "source": [
    "df.describe()"
   ]
  },
  {
   "cell_type": "markdown",
   "id": "4f2c74f9",
   "metadata": {},
   "source": [
    "It’s also useful to see if any column has null values since it shows us the count of values in each one."
   ]
  },
  {
   "cell_type": "markdown",
   "id": "d73b11a6",
   "metadata": {},
   "source": [
    "# Corr()"
   ]
  },
  {
   "cell_type": "markdown",
   "id": "be381f78",
   "metadata": {},
   "source": [
    "The corr() function display the correlation between different variables in dataset"
   ]
  },
  {
   "cell_type": "code",
   "execution_count": 5,
   "id": "38b2a209",
   "metadata": {},
   "outputs": [
    {
     "data": {
      "text/html": [
       "<div>\n",
       "<style scoped>\n",
       "    .dataframe tbody tr th:only-of-type {\n",
       "        vertical-align: middle;\n",
       "    }\n",
       "\n",
       "    .dataframe tbody tr th {\n",
       "        vertical-align: top;\n",
       "    }\n",
       "\n",
       "    .dataframe thead th {\n",
       "        text-align: right;\n",
       "    }\n",
       "</style>\n",
       "<table border=\"1\" class=\"dataframe\">\n",
       "  <thead>\n",
       "    <tr style=\"text-align: right;\">\n",
       "      <th></th>\n",
       "      <th>YEAR</th>\n",
       "      <th>JAN</th>\n",
       "      <th>FEB</th>\n",
       "      <th>MAR</th>\n",
       "      <th>APR</th>\n",
       "      <th>MAY</th>\n",
       "      <th>JUN</th>\n",
       "      <th>JUL</th>\n",
       "      <th>AUG</th>\n",
       "      <th>SEP</th>\n",
       "      <th>OCT</th>\n",
       "      <th>NOV</th>\n",
       "      <th>DEC</th>\n",
       "      <th>ANNUAL RAINFALL</th>\n",
       "    </tr>\n",
       "  </thead>\n",
       "  <tbody>\n",
       "    <tr>\n",
       "      <th>YEAR</th>\n",
       "      <td>1.000000</td>\n",
       "      <td>-0.225531</td>\n",
       "      <td>0.003879</td>\n",
       "      <td>-0.012842</td>\n",
       "      <td>0.086865</td>\n",
       "      <td>-0.059661</td>\n",
       "      <td>-0.174938</td>\n",
       "      <td>-0.223403</td>\n",
       "      <td>0.044173</td>\n",
       "      <td>0.107655</td>\n",
       "      <td>-0.030223</td>\n",
       "      <td>-0.130129</td>\n",
       "      <td>-0.123643</td>\n",
       "      <td>-0.198048</td>\n",
       "    </tr>\n",
       "    <tr>\n",
       "      <th>JAN</th>\n",
       "      <td>-0.225531</td>\n",
       "      <td>1.000000</td>\n",
       "      <td>0.019613</td>\n",
       "      <td>0.078626</td>\n",
       "      <td>0.034807</td>\n",
       "      <td>0.071420</td>\n",
       "      <td>0.189375</td>\n",
       "      <td>0.034423</td>\n",
       "      <td>0.008677</td>\n",
       "      <td>-0.113502</td>\n",
       "      <td>-0.035044</td>\n",
       "      <td>-0.011034</td>\n",
       "      <td>-0.089809</td>\n",
       "      <td>0.118648</td>\n",
       "    </tr>\n",
       "    <tr>\n",
       "      <th>FEB</th>\n",
       "      <td>0.003879</td>\n",
       "      <td>0.019613</td>\n",
       "      <td>1.000000</td>\n",
       "      <td>0.245375</td>\n",
       "      <td>0.123706</td>\n",
       "      <td>-0.083500</td>\n",
       "      <td>0.054114</td>\n",
       "      <td>0.005789</td>\n",
       "      <td>0.023259</td>\n",
       "      <td>0.066317</td>\n",
       "      <td>0.053133</td>\n",
       "      <td>-0.162880</td>\n",
       "      <td>-0.127025</td>\n",
       "      <td>0.061457</td>\n",
       "    </tr>\n",
       "    <tr>\n",
       "      <th>MAR</th>\n",
       "      <td>-0.012842</td>\n",
       "      <td>0.078626</td>\n",
       "      <td>0.245375</td>\n",
       "      <td>1.000000</td>\n",
       "      <td>0.074014</td>\n",
       "      <td>-0.102961</td>\n",
       "      <td>0.019000</td>\n",
       "      <td>0.018330</td>\n",
       "      <td>0.042411</td>\n",
       "      <td>0.143850</td>\n",
       "      <td>-0.023066</td>\n",
       "      <td>-0.032612</td>\n",
       "      <td>0.026292</td>\n",
       "      <td>0.116103</td>\n",
       "    </tr>\n",
       "    <tr>\n",
       "      <th>APR</th>\n",
       "      <td>0.086865</td>\n",
       "      <td>0.034807</td>\n",
       "      <td>0.123706</td>\n",
       "      <td>0.074014</td>\n",
       "      <td>1.000000</td>\n",
       "      <td>-0.114566</td>\n",
       "      <td>0.072990</td>\n",
       "      <td>0.014977</td>\n",
       "      <td>-0.047842</td>\n",
       "      <td>0.012928</td>\n",
       "      <td>0.113172</td>\n",
       "      <td>0.022206</td>\n",
       "      <td>-0.110392</td>\n",
       "      <td>0.112358</td>\n",
       "    </tr>\n",
       "    <tr>\n",
       "      <th>MAY</th>\n",
       "      <td>-0.059661</td>\n",
       "      <td>0.071420</td>\n",
       "      <td>-0.083500</td>\n",
       "      <td>-0.102961</td>\n",
       "      <td>-0.114566</td>\n",
       "      <td>1.000000</td>\n",
       "      <td>0.001235</td>\n",
       "      <td>-0.046518</td>\n",
       "      <td>-0.124412</td>\n",
       "      <td>0.116860</td>\n",
       "      <td>0.197102</td>\n",
       "      <td>0.094934</td>\n",
       "      <td>-0.118077</td>\n",
       "      <td>0.314723</td>\n",
       "    </tr>\n",
       "    <tr>\n",
       "      <th>JUN</th>\n",
       "      <td>-0.174938</td>\n",
       "      <td>0.189375</td>\n",
       "      <td>0.054114</td>\n",
       "      <td>0.019000</td>\n",
       "      <td>0.072990</td>\n",
       "      <td>0.001235</td>\n",
       "      <td>1.000000</td>\n",
       "      <td>0.094939</td>\n",
       "      <td>-0.014549</td>\n",
       "      <td>-0.052634</td>\n",
       "      <td>0.001156</td>\n",
       "      <td>0.015967</td>\n",
       "      <td>-0.085188</td>\n",
       "      <td>0.453407</td>\n",
       "    </tr>\n",
       "    <tr>\n",
       "      <th>JUL</th>\n",
       "      <td>-0.223403</td>\n",
       "      <td>0.034423</td>\n",
       "      <td>0.005789</td>\n",
       "      <td>0.018330</td>\n",
       "      <td>0.014977</td>\n",
       "      <td>-0.046518</td>\n",
       "      <td>0.094939</td>\n",
       "      <td>1.000000</td>\n",
       "      <td>0.154467</td>\n",
       "      <td>0.209441</td>\n",
       "      <td>0.025223</td>\n",
       "      <td>-0.028526</td>\n",
       "      <td>-0.013573</td>\n",
       "      <td>0.651990</td>\n",
       "    </tr>\n",
       "    <tr>\n",
       "      <th>AUG</th>\n",
       "      <td>0.044173</td>\n",
       "      <td>0.008677</td>\n",
       "      <td>0.023259</td>\n",
       "      <td>0.042411</td>\n",
       "      <td>-0.047842</td>\n",
       "      <td>-0.124412</td>\n",
       "      <td>-0.014549</td>\n",
       "      <td>0.154467</td>\n",
       "      <td>1.000000</td>\n",
       "      <td>0.098215</td>\n",
       "      <td>-0.181496</td>\n",
       "      <td>-0.112729</td>\n",
       "      <td>0.142090</td>\n",
       "      <td>0.413036</td>\n",
       "    </tr>\n",
       "    <tr>\n",
       "      <th>SEP</th>\n",
       "      <td>0.107655</td>\n",
       "      <td>-0.113502</td>\n",
       "      <td>0.066317</td>\n",
       "      <td>0.143850</td>\n",
       "      <td>0.012928</td>\n",
       "      <td>0.116860</td>\n",
       "      <td>-0.052634</td>\n",
       "      <td>0.209441</td>\n",
       "      <td>0.098215</td>\n",
       "      <td>1.000000</td>\n",
       "      <td>-0.032348</td>\n",
       "      <td>-0.027615</td>\n",
       "      <td>-0.011007</td>\n",
       "      <td>0.428344</td>\n",
       "    </tr>\n",
       "    <tr>\n",
       "      <th>OCT</th>\n",
       "      <td>-0.030223</td>\n",
       "      <td>-0.035044</td>\n",
       "      <td>0.053133</td>\n",
       "      <td>-0.023066</td>\n",
       "      <td>0.113172</td>\n",
       "      <td>0.197102</td>\n",
       "      <td>0.001156</td>\n",
       "      <td>0.025223</td>\n",
       "      <td>-0.181496</td>\n",
       "      <td>-0.032348</td>\n",
       "      <td>1.000000</td>\n",
       "      <td>-0.024060</td>\n",
       "      <td>-0.039067</td>\n",
       "      <td>0.205861</td>\n",
       "    </tr>\n",
       "    <tr>\n",
       "      <th>NOV</th>\n",
       "      <td>-0.130129</td>\n",
       "      <td>-0.011034</td>\n",
       "      <td>-0.162880</td>\n",
       "      <td>-0.032612</td>\n",
       "      <td>0.022206</td>\n",
       "      <td>0.094934</td>\n",
       "      <td>0.015967</td>\n",
       "      <td>-0.028526</td>\n",
       "      <td>-0.112729</td>\n",
       "      <td>-0.027615</td>\n",
       "      <td>-0.024060</td>\n",
       "      <td>1.000000</td>\n",
       "      <td>0.070720</td>\n",
       "      <td>0.148783</td>\n",
       "    </tr>\n",
       "    <tr>\n",
       "      <th>DEC</th>\n",
       "      <td>-0.123643</td>\n",
       "      <td>-0.089809</td>\n",
       "      <td>-0.127025</td>\n",
       "      <td>0.026292</td>\n",
       "      <td>-0.110392</td>\n",
       "      <td>-0.118077</td>\n",
       "      <td>-0.085188</td>\n",
       "      <td>-0.013573</td>\n",
       "      <td>0.142090</td>\n",
       "      <td>-0.011007</td>\n",
       "      <td>-0.039067</td>\n",
       "      <td>0.070720</td>\n",
       "      <td>1.000000</td>\n",
       "      <td>0.042967</td>\n",
       "    </tr>\n",
       "    <tr>\n",
       "      <th>ANNUAL RAINFALL</th>\n",
       "      <td>-0.198048</td>\n",
       "      <td>0.118648</td>\n",
       "      <td>0.061457</td>\n",
       "      <td>0.116103</td>\n",
       "      <td>0.112358</td>\n",
       "      <td>0.314723</td>\n",
       "      <td>0.453407</td>\n",
       "      <td>0.651990</td>\n",
       "      <td>0.413036</td>\n",
       "      <td>0.428344</td>\n",
       "      <td>0.205861</td>\n",
       "      <td>0.148783</td>\n",
       "      <td>0.042967</td>\n",
       "      <td>1.000000</td>\n",
       "    </tr>\n",
       "  </tbody>\n",
       "</table>\n",
       "</div>"
      ],
      "text/plain": [
       "                      YEAR       JAN       FEB       MAR       APR       MAY  \\\n",
       "YEAR              1.000000 -0.225531  0.003879 -0.012842  0.086865 -0.059661   \n",
       "JAN              -0.225531  1.000000  0.019613  0.078626  0.034807  0.071420   \n",
       "FEB               0.003879  0.019613  1.000000  0.245375  0.123706 -0.083500   \n",
       "MAR              -0.012842  0.078626  0.245375  1.000000  0.074014 -0.102961   \n",
       "APR               0.086865  0.034807  0.123706  0.074014  1.000000 -0.114566   \n",
       "MAY              -0.059661  0.071420 -0.083500 -0.102961 -0.114566  1.000000   \n",
       "JUN              -0.174938  0.189375  0.054114  0.019000  0.072990  0.001235   \n",
       "JUL              -0.223403  0.034423  0.005789  0.018330  0.014977 -0.046518   \n",
       "AUG               0.044173  0.008677  0.023259  0.042411 -0.047842 -0.124412   \n",
       "SEP               0.107655 -0.113502  0.066317  0.143850  0.012928  0.116860   \n",
       "OCT              -0.030223 -0.035044  0.053133 -0.023066  0.113172  0.197102   \n",
       "NOV              -0.130129 -0.011034 -0.162880 -0.032612  0.022206  0.094934   \n",
       "DEC              -0.123643 -0.089809 -0.127025  0.026292 -0.110392 -0.118077   \n",
       " ANNUAL RAINFALL -0.198048  0.118648  0.061457  0.116103  0.112358  0.314723   \n",
       "\n",
       "                       JUN       JUL       AUG       SEP       OCT       NOV  \\\n",
       "YEAR             -0.174938 -0.223403  0.044173  0.107655 -0.030223 -0.130129   \n",
       "JAN               0.189375  0.034423  0.008677 -0.113502 -0.035044 -0.011034   \n",
       "FEB               0.054114  0.005789  0.023259  0.066317  0.053133 -0.162880   \n",
       "MAR               0.019000  0.018330  0.042411  0.143850 -0.023066 -0.032612   \n",
       "APR               0.072990  0.014977 -0.047842  0.012928  0.113172  0.022206   \n",
       "MAY               0.001235 -0.046518 -0.124412  0.116860  0.197102  0.094934   \n",
       "JUN               1.000000  0.094939 -0.014549 -0.052634  0.001156  0.015967   \n",
       "JUL               0.094939  1.000000  0.154467  0.209441  0.025223 -0.028526   \n",
       "AUG              -0.014549  0.154467  1.000000  0.098215 -0.181496 -0.112729   \n",
       "SEP              -0.052634  0.209441  0.098215  1.000000 -0.032348 -0.027615   \n",
       "OCT               0.001156  0.025223 -0.181496 -0.032348  1.000000 -0.024060   \n",
       "NOV               0.015967 -0.028526 -0.112729 -0.027615 -0.024060  1.000000   \n",
       "DEC              -0.085188 -0.013573  0.142090 -0.011007 -0.039067  0.070720   \n",
       " ANNUAL RAINFALL  0.453407  0.651990  0.413036  0.428344  0.205861  0.148783   \n",
       "\n",
       "                       DEC   ANNUAL RAINFALL  \n",
       "YEAR             -0.123643         -0.198048  \n",
       "JAN              -0.089809          0.118648  \n",
       "FEB              -0.127025          0.061457  \n",
       "MAR               0.026292          0.116103  \n",
       "APR              -0.110392          0.112358  \n",
       "MAY              -0.118077          0.314723  \n",
       "JUN              -0.085188          0.453407  \n",
       "JUL              -0.013573          0.651990  \n",
       "AUG               0.142090          0.413036  \n",
       "SEP              -0.011007          0.428344  \n",
       "OCT              -0.039067          0.205861  \n",
       "NOV               0.070720          0.148783  \n",
       "DEC               1.000000          0.042967  \n",
       " ANNUAL RAINFALL  0.042967          1.000000  "
      ]
     },
     "execution_count": 5,
     "metadata": {},
     "output_type": "execute_result"
    }
   ],
   "source": [
    "df.corr()"
   ]
  },
  {
   "cell_type": "markdown",
   "id": "55efe386",
   "metadata": {},
   "source": [
    "The closer to 1, the stronger the correlation between these variables.\n",
    "\n",
    "A minus sign means that these 2 variables are negatively correlated, i.e. one decreases with increasing the other and vice versa."
   ]
  },
  {
   "cell_type": "markdown",
   "id": "44c88dce",
   "metadata": {},
   "source": [
    "# Replace"
   ]
  },
  {
   "cell_type": "markdown",
   "id": "47ec98e5",
   "metadata": {},
   "source": [
    "In order to train this python model,  we need the values of our target output to be 0 & 1. So, we'll replace values in the Floos column (YES,NO) with (1,0 respectively)"
   ]
  },
  {
   "cell_type": "code",
   "execution_count": 6,
   "id": "84ae851d",
   "metadata": {},
   "outputs": [
    {
     "data": {
      "text/html": [
       "<div>\n",
       "<style scoped>\n",
       "    .dataframe tbody tr th:only-of-type {\n",
       "        vertical-align: middle;\n",
       "    }\n",
       "\n",
       "    .dataframe tbody tr th {\n",
       "        vertical-align: top;\n",
       "    }\n",
       "\n",
       "    .dataframe thead th {\n",
       "        text-align: right;\n",
       "    }\n",
       "</style>\n",
       "<table border=\"1\" class=\"dataframe\">\n",
       "  <thead>\n",
       "    <tr style=\"text-align: right;\">\n",
       "      <th></th>\n",
       "      <th>SUBDIVISION</th>\n",
       "      <th>YEAR</th>\n",
       "      <th>JAN</th>\n",
       "      <th>FEB</th>\n",
       "      <th>MAR</th>\n",
       "      <th>APR</th>\n",
       "      <th>MAY</th>\n",
       "      <th>JUN</th>\n",
       "      <th>JUL</th>\n",
       "      <th>AUG</th>\n",
       "      <th>SEP</th>\n",
       "      <th>OCT</th>\n",
       "      <th>NOV</th>\n",
       "      <th>DEC</th>\n",
       "      <th>ANNUAL RAINFALL</th>\n",
       "      <th>FLOODS</th>\n",
       "    </tr>\n",
       "  </thead>\n",
       "  <tbody>\n",
       "    <tr>\n",
       "      <th>0</th>\n",
       "      <td>KERALA</td>\n",
       "      <td>1901</td>\n",
       "      <td>28.7</td>\n",
       "      <td>44.7</td>\n",
       "      <td>51.6</td>\n",
       "      <td>160.0</td>\n",
       "      <td>174.7</td>\n",
       "      <td>824.6</td>\n",
       "      <td>743.0</td>\n",
       "      <td>357.5</td>\n",
       "      <td>197.7</td>\n",
       "      <td>266.9</td>\n",
       "      <td>350.8</td>\n",
       "      <td>48.4</td>\n",
       "      <td>3248.6</td>\n",
       "      <td>1</td>\n",
       "    </tr>\n",
       "    <tr>\n",
       "      <th>1</th>\n",
       "      <td>KERALA</td>\n",
       "      <td>1902</td>\n",
       "      <td>6.7</td>\n",
       "      <td>2.6</td>\n",
       "      <td>57.3</td>\n",
       "      <td>83.9</td>\n",
       "      <td>134.5</td>\n",
       "      <td>390.9</td>\n",
       "      <td>1205.0</td>\n",
       "      <td>315.8</td>\n",
       "      <td>491.6</td>\n",
       "      <td>358.4</td>\n",
       "      <td>158.3</td>\n",
       "      <td>121.5</td>\n",
       "      <td>3326.6</td>\n",
       "      <td>1</td>\n",
       "    </tr>\n",
       "    <tr>\n",
       "      <th>2</th>\n",
       "      <td>KERALA</td>\n",
       "      <td>1903</td>\n",
       "      <td>3.2</td>\n",
       "      <td>18.6</td>\n",
       "      <td>3.1</td>\n",
       "      <td>83.6</td>\n",
       "      <td>249.7</td>\n",
       "      <td>558.6</td>\n",
       "      <td>1022.5</td>\n",
       "      <td>420.2</td>\n",
       "      <td>341.8</td>\n",
       "      <td>354.1</td>\n",
       "      <td>157.0</td>\n",
       "      <td>59.0</td>\n",
       "      <td>3271.2</td>\n",
       "      <td>1</td>\n",
       "    </tr>\n",
       "    <tr>\n",
       "      <th>3</th>\n",
       "      <td>KERALA</td>\n",
       "      <td>1904</td>\n",
       "      <td>23.7</td>\n",
       "      <td>3.0</td>\n",
       "      <td>32.2</td>\n",
       "      <td>71.5</td>\n",
       "      <td>235.7</td>\n",
       "      <td>1098.2</td>\n",
       "      <td>725.5</td>\n",
       "      <td>351.8</td>\n",
       "      <td>222.7</td>\n",
       "      <td>328.1</td>\n",
       "      <td>33.9</td>\n",
       "      <td>3.3</td>\n",
       "      <td>3129.7</td>\n",
       "      <td>1</td>\n",
       "    </tr>\n",
       "    <tr>\n",
       "      <th>4</th>\n",
       "      <td>KERALA</td>\n",
       "      <td>1905</td>\n",
       "      <td>1.2</td>\n",
       "      <td>22.3</td>\n",
       "      <td>9.4</td>\n",
       "      <td>105.9</td>\n",
       "      <td>263.3</td>\n",
       "      <td>850.2</td>\n",
       "      <td>520.5</td>\n",
       "      <td>293.6</td>\n",
       "      <td>217.2</td>\n",
       "      <td>383.5</td>\n",
       "      <td>74.4</td>\n",
       "      <td>0.2</td>\n",
       "      <td>2741.6</td>\n",
       "      <td>0</td>\n",
       "    </tr>\n",
       "  </tbody>\n",
       "</table>\n",
       "</div>"
      ],
      "text/plain": [
       "  SUBDIVISION  YEAR   JAN   FEB   MAR    APR    MAY     JUN     JUL    AUG  \\\n",
       "0      KERALA  1901  28.7  44.7  51.6  160.0  174.7   824.6   743.0  357.5   \n",
       "1      KERALA  1902   6.7   2.6  57.3   83.9  134.5   390.9  1205.0  315.8   \n",
       "2      KERALA  1903   3.2  18.6   3.1   83.6  249.7   558.6  1022.5  420.2   \n",
       "3      KERALA  1904  23.7   3.0  32.2   71.5  235.7  1098.2   725.5  351.8   \n",
       "4      KERALA  1905   1.2  22.3   9.4  105.9  263.3   850.2   520.5  293.6   \n",
       "\n",
       "     SEP    OCT    NOV    DEC   ANNUAL RAINFALL  FLOODS  \n",
       "0  197.7  266.9  350.8   48.4            3248.6       1  \n",
       "1  491.6  358.4  158.3  121.5            3326.6       1  \n",
       "2  341.8  354.1  157.0   59.0            3271.2       1  \n",
       "3  222.7  328.1   33.9    3.3            3129.7       1  \n",
       "4  217.2  383.5   74.4    0.2            2741.6       0  "
      ]
     },
     "execution_count": 6,
     "metadata": {},
     "output_type": "execute_result"
    }
   ],
   "source": [
    "df['FLOODS'].replace(['YES','NO'],[1,0],inplace=True)\n",
    "df.head()"
   ]
  },
  {
   "cell_type": "markdown",
   "id": "46c4ec6b",
   "metadata": {},
   "source": [
    "in place= True means we want this replacement to be reflected in the original dataset, i.e the change is permanent."
   ]
  },
  {
   "cell_type": "markdown",
   "id": "2a062644",
   "metadata": {},
   "source": [
    "# Feature Selection"
   ]
  },
  {
   "cell_type": "markdown",
   "id": "0d2cb5fc",
   "metadata": {},
   "source": [
    "In this step, we choose several features that contribute most to the target output. So, instead of training the model using every column in our dataset, we select only those that have the strongest relationship with the predicted variable.\n"
   ]
  },
  {
   "cell_type": "markdown",
   "id": "8def5094",
   "metadata": {},
   "source": [
    "\n",
    "Use the SelectKBest library to run a chi-squared statistical test and select the top 3 features that are most related to floods."
   ]
  },
  {
   "cell_type": "code",
   "execution_count": 7,
   "id": "8053a818",
   "metadata": {},
   "outputs": [],
   "source": [
    "from sklearn.feature_selection import SelectKBest\n",
    "from sklearn.feature_selection import chi2"
   ]
  },
  {
   "cell_type": "markdown",
   "id": "fd686c33",
   "metadata": {},
   "source": [
    "After, define X & Y"
   ]
  },
  {
   "cell_type": "code",
   "execution_count": 8,
   "id": "166d3fe4",
   "metadata": {},
   "outputs": [],
   "source": [
    "X= df.iloc[:,1:14] #all features\n",
    "Y= df.iloc[:,-1] #target output (floods)"
   ]
  },
  {
   "cell_type": "markdown",
   "id": "add65eba",
   "metadata": {},
   "source": [
    "Select the top 3 features"
   ]
  },
  {
   "cell_type": "code",
   "execution_count": 9,
   "id": "9d61c0f2",
   "metadata": {},
   "outputs": [],
   "source": [
    "best_features= SelectKBest(score_func=chi2, k=3)\n",
    "fit= best_features.fit(X,Y)"
   ]
  },
  {
   "cell_type": "markdown",
   "id": "27150b39",
   "metadata": {},
   "source": [
    "Now we create data frames for the features and the score of each feature:"
   ]
  },
  {
   "cell_type": "code",
   "execution_count": 10,
   "id": "a741c5f4",
   "metadata": {},
   "outputs": [],
   "source": [
    "df_scores= pd.DataFrame(fit.scores_)\n",
    "df_columns= pd.DataFrame(X.columns)"
   ]
  },
  {
   "cell_type": "markdown",
   "id": "0d677f6f",
   "metadata": {},
   "source": [
    "Finally, we’ll combine all the features and their corresponding scores in one data frame:"
   ]
  },
  {
   "cell_type": "code",
   "execution_count": 11,
   "id": "229cb408",
   "metadata": {},
   "outputs": [
    {
     "data": {
      "text/html": [
       "<div>\n",
       "<style scoped>\n",
       "    .dataframe tbody tr th:only-of-type {\n",
       "        vertical-align: middle;\n",
       "    }\n",
       "\n",
       "    .dataframe tbody tr th {\n",
       "        vertical-align: top;\n",
       "    }\n",
       "\n",
       "    .dataframe thead th {\n",
       "        text-align: right;\n",
       "    }\n",
       "</style>\n",
       "<table border=\"1\" class=\"dataframe\">\n",
       "  <thead>\n",
       "    <tr style=\"text-align: right;\">\n",
       "      <th></th>\n",
       "      <th>Features</th>\n",
       "      <th>Score</th>\n",
       "    </tr>\n",
       "  </thead>\n",
       "  <tbody>\n",
       "    <tr>\n",
       "      <th>4</th>\n",
       "      <td>APR</td>\n",
       "      <td>2.498771</td>\n",
       "    </tr>\n",
       "    <tr>\n",
       "      <th>2</th>\n",
       "      <td>FEB</td>\n",
       "      <td>2.571626</td>\n",
       "    </tr>\n",
       "    <tr>\n",
       "      <th>0</th>\n",
       "      <td>YEAR</td>\n",
       "      <td>2.866463</td>\n",
       "    </tr>\n",
       "    <tr>\n",
       "      <th>12</th>\n",
       "      <td>DEC</td>\n",
       "      <td>11.609546</td>\n",
       "    </tr>\n",
       "    <tr>\n",
       "      <th>10</th>\n",
       "      <td>OCT</td>\n",
       "      <td>12.650485</td>\n",
       "    </tr>\n",
       "    <tr>\n",
       "      <th>3</th>\n",
       "      <td>MAR</td>\n",
       "      <td>21.696518</td>\n",
       "    </tr>\n",
       "    <tr>\n",
       "      <th>1</th>\n",
       "      <td>JAN</td>\n",
       "      <td>48.413088</td>\n",
       "    </tr>\n",
       "    <tr>\n",
       "      <th>11</th>\n",
       "      <td>NOV</td>\n",
       "      <td>284.674615</td>\n",
       "    </tr>\n",
       "    <tr>\n",
       "      <th>5</th>\n",
       "      <td>MAY</td>\n",
       "      <td>656.812145</td>\n",
       "    </tr>\n",
       "    <tr>\n",
       "      <th>8</th>\n",
       "      <td>AUG</td>\n",
       "      <td>739.975818</td>\n",
       "    </tr>\n",
       "    <tr>\n",
       "      <th>9</th>\n",
       "      <td>SEP</td>\n",
       "      <td>1000.379273</td>\n",
       "    </tr>\n",
       "    <tr>\n",
       "      <th>6</th>\n",
       "      <td>JUN</td>\n",
       "      <td>1218.856252</td>\n",
       "    </tr>\n",
       "    <tr>\n",
       "      <th>7</th>\n",
       "      <td>JUL</td>\n",
       "      <td>1722.612175</td>\n",
       "    </tr>\n",
       "  </tbody>\n",
       "</table>\n",
       "</div>"
      ],
      "text/plain": [
       "   Features        Score\n",
       "4       APR     2.498771\n",
       "2       FEB     2.571626\n",
       "0      YEAR     2.866463\n",
       "12      DEC    11.609546\n",
       "10      OCT    12.650485\n",
       "3       MAR    21.696518\n",
       "1       JAN    48.413088\n",
       "11      NOV   284.674615\n",
       "5       MAY   656.812145\n",
       "8       AUG   739.975818\n",
       "9       SEP  1000.379273\n",
       "6       JUN  1218.856252\n",
       "7       JUL  1722.612175"
      ]
     },
     "execution_count": 11,
     "metadata": {},
     "output_type": "execute_result"
    }
   ],
   "source": [
    "features_scores= pd.concat([df_columns, df_scores], axis=1)\n",
    "features_scores.columns= ['Features', 'Score']\n",
    "features_scores.sort_values(by = 'Score')"
   ]
  },
  {
   "cell_type": "markdown",
   "id": "d1cad531",
   "metadata": {},
   "source": [
    "Here, we notice that the top 3 features that are most related to the target output are:"
   ]
  },
  {
   "cell_type": "markdown",
   "id": "8b8aacca",
   "metadata": {},
   "source": [
    "'SEP' which is the rainfall index in September"
   ]
  },
  {
   "cell_type": "markdown",
   "id": "b3bf2c06",
   "metadata": {},
   "source": [
    "'JUN' is the rainfall index in June"
   ]
  },
  {
   "cell_type": "markdown",
   "id": "4a0a17c1",
   "metadata": {},
   "source": [
    "'JUL' is the rainfall index in July"
   ]
  },
  {
   "cell_type": "markdown",
   "id": "cc417a91",
   "metadata": {},
   "source": [
    "# Build the Model"
   ]
  },
  {
   "cell_type": "markdown",
   "id": "f0cd8320",
   "metadata": {},
   "source": [
    "Now it’s time to get our hands dirty. First, split the dataset into X and Y:"
   ]
  },
  {
   "cell_type": "code",
   "execution_count": 12,
   "id": "bcd37ae5",
   "metadata": {},
   "outputs": [],
   "source": [
    "X=df[['SEP','JUN','JUL']] # THE TOP 3 FEATURES\n",
    "Y= df[['FLOODS']] # the target output"
   ]
  },
  {
   "cell_type": "markdown",
   "id": "39bb342b",
   "metadata": {},
   "source": [
    "Second, split the dataset into train and test"
   ]
  },
  {
   "cell_type": "code",
   "execution_count": 13,
   "id": "7b3cb9fd",
   "metadata": {},
   "outputs": [],
   "source": [
    "X_train,X_test,y_train,y_test=train_test_split(X,Y, test_size=0.4, random_state=100)"
   ]
  },
  {
   "cell_type": "markdown",
   "id": "e0580b57",
   "metadata": {},
   "source": [
    "Third, create a logistice regression body"
   ]
  },
  {
   "cell_type": "code",
   "execution_count": 14,
   "id": "6d94f57c",
   "metadata": {},
   "outputs": [
    {
     "name": "stderr",
     "output_type": "stream",
     "text": [
      "E:\\python_App\\lib\\site-packages\\sklearn\\utils\\validation.py:63: DataConversionWarning: A column-vector y was passed when a 1d array was expected. Please change the shape of y to (n_samples, ), for example using ravel().\n",
      "  return f(*args, **kwargs)\n"
     ]
    },
    {
     "data": {
      "text/plain": [
       "LogisticRegression()"
      ]
     },
     "execution_count": 14,
     "metadata": {},
     "output_type": "execute_result"
    }
   ],
   "source": [
    "logreg= LogisticRegression()\n",
    "logreg.fit(X_train,y_train)"
   ]
  },
  {
   "cell_type": "markdown",
   "id": "9e294c58",
   "metadata": {},
   "source": [
    "Finally, we predict the likelihood of a flood using the logistic regression body we created:"
   ]
  },
  {
   "cell_type": "code",
   "execution_count": 15,
   "id": "7c4018ab",
   "metadata": {},
   "outputs": [
    {
     "name": "stdout",
     "output_type": "stream",
     "text": [
      "       SEP     JUN     JUL\n",
      "84   117.6   828.7   388.9\n",
      "85   235.4   597.9   324.8\n",
      "37   223.2   681.6   648.6\n",
      "45   199.4   919.0   671.7\n",
      "97   517.6   732.5   641.4\n",
      "26   335.6   720.2   888.2\n",
      "101   99.0   503.1   318.7\n",
      "112  318.6  1042.7   830.2\n",
      "21   222.4   663.1  1025.1\n",
      "33    48.4   852.9   415.0\n",
      "11   136.8   948.2   833.6\n",
      "46   394.5   556.1   669.3\n",
      "96   292.2   544.2   970.5\n",
      "25   322.7   563.9   885.2\n",
      "32   469.7   859.3   773.4\n",
      "99   195.8   633.8   343.2\n",
      "108  326.5   438.2   924.9\n",
      "51    57.4   576.7   430.0\n",
      "29   411.5   633.1   401.7\n",
      "64   150.1   597.7   465.1\n",
      "28   268.9   946.6   844.0\n",
      "90    48.5  1096.1   905.5\n",
      "89   103.3   528.6   635.4\n",
      "54   438.5   782.4   392.8\n",
      "35   286.7   620.8   672.1\n",
      "43   155.0   498.9   614.1\n",
      "73   383.6   266.9  1004.2\n",
      "80   376.6   912.4   489.8\n",
      "36   139.8   485.6   970.5\n",
      "75   116.2   196.8   641.5\n",
      "22   254.3   722.5  1008.7\n",
      "82   421.1   322.8   583.2\n",
      "113  298.8   454.4   677.8\n",
      "5    131.2   414.9   954.2\n",
      "105  474.8   482.4   804.0\n",
      "23   289.1  1011.7  1526.5\n",
      "104  414.7   619.2   832.7\n",
      "100  216.8   715.3   598.5\n",
      "20   156.7   489.1   639.8\n",
      "41    99.8   813.6   828.8\n",
      "6    225.0   770.9   760.4\n",
      "3    222.7  1098.2   725.5\n",
      "12   176.9   541.7   763.2\n",
      "77   119.4   758.1   686.7\n",
      "62   223.9   393.3   720.2\n",
      "78   211.7   582.9   662.2\n",
      "74   457.7   864.4   531.3\n",
      "68   216.4   550.5   818.8\n",
      "[0 0 0 1 1 1 0 1 1 0 1 1 1 1 1 0 1 0 0 0 1 1 0 1 1 0 1 1 1 0 1 0 0 0 1 1 1\n",
      " 0 0 1 1 1 0 0 0 0 1 1]\n"
     ]
    }
   ],
   "source": [
    "y_pred=logreg.predict(X_test)\n",
    "print (X_test) #test dataset\n",
    "print (y_pred) #predicted values"
   ]
  },
  {
   "cell_type": "markdown",
   "id": "bff9b32c",
   "metadata": {},
   "source": [
    "# Evaluate the Model's Performance"
   ]
  },
  {
   "cell_type": "markdown",
   "id": "445ec56e",
   "metadata": {},
   "source": [
    "Now we'll evaluate how well our model performed predictive analytics by running a classification report and a ROC curve"
   ]
  },
  {
   "cell_type": "markdown",
   "id": "6dd0a9c4",
   "metadata": {},
   "source": [
    "# Classification Report"
   ]
  },
  {
   "cell_type": "markdown",
   "id": "d04156ef",
   "metadata": {},
   "source": [
    "Classification Report is a performance evaluation report that is used to evaluate the performance of machine learning models by the following 5 criteria"
   ]
  },
  {
   "cell_type": "raw",
   "id": "e917214d",
   "metadata": {},
   "source": [
    "Accuracy is a score used to evaluate the model's performance. The higher it is,the better"
   ]
  },
  {
   "cell_type": "raw",
   "id": "55b44da0",
   "metadata": {},
   "source": [
    "Recall measures the model's ability to correctly predict the true positive values."
   ]
  },
  {
   "cell_type": "raw",
   "id": "f853b7b0",
   "metadata": {},
   "source": [
    "Precision is the ratio of true positive to the sum of both true and false positives"
   ]
  },
  {
   "cell_type": "raw",
   "id": "83624c78",
   "metadata": {},
   "source": [
    "F-score combines precision and recall into one metric. Ideally, its value should be closest to 1, the better"
   ]
  },
  {
   "cell_type": "raw",
   "id": "914e51fe",
   "metadata": {},
   "source": [
    "Support is the number of actual occurrences of each class in the dataset"
   ]
  },
  {
   "cell_type": "code",
   "execution_count": 16,
   "id": "20b55e25",
   "metadata": {},
   "outputs": [
    {
     "name": "stdout",
     "output_type": "stream",
     "text": [
      "Accuracy:  0.8541666666666666\n",
      "Recall:  0.8846153846153846\n",
      "Precision 0.8518518518518519\n",
      "CL Report:               precision    recall  f1-score   support\n",
      "\n",
      "           0       0.86      0.82      0.84        22\n",
      "           1       0.85      0.88      0.87        26\n",
      "\n",
      "    accuracy                           0.85        48\n",
      "   macro avg       0.85      0.85      0.85        48\n",
      "weighted avg       0.85      0.85      0.85        48\n",
      "\n"
     ]
    }
   ],
   "source": [
    "from sklearn import metrics\n",
    "from sklearn.metrics import classification_report\n",
    "print('Accuracy: ',metrics.accuracy_score(y_test, y_pred))\n",
    "print('Recall: ',metrics.recall_score(y_test, y_pred, zero_division=1))\n",
    "print('Precision',metrics.precision_score(y_test, y_pred, zero_division=1))\n",
    "print('CL Report:',metrics.classification_report(y_test, y_pred, zero_division=1))"
   ]
  },
  {
   "cell_type": "markdown",
   "id": "bd54df1f",
   "metadata": {},
   "source": [
    "As you can see, the model’s performance in numbers is:"
   ]
  },
  {
   "cell_type": "raw",
   "id": "8befd802",
   "metadata": {},
   "source": [
    "# Accuracy: 85%"
   ]
  },
  {
   "cell_type": "raw",
   "id": "29699987",
   "metadata": {},
   "source": [
    "Recall: 88%"
   ]
  },
  {
   "cell_type": "raw",
   "id": "4a025a4b",
   "metadata": {},
   "source": [
    "Precision: 85%"
   ]
  },
  {
   "cell_type": "markdown",
   "id": "7a0a9c69",
   "metadata": {},
   "source": [
    "We can safely conclude that this nodel predicted the likelihood of a flood well"
   ]
  },
  {
   "cell_type": "markdown",
   "id": "16409276",
   "metadata": {},
   "source": [
    "# ROC Curve"
   ]
  },
  {
   "cell_type": "markdown",
   "id": "b8a4b05f",
   "metadata": {},
   "source": [
    "The receiver operating characteristic (ROC) curve is used to display the sensitivity and specificity of the logistic regression model by calculating the true positive and false positive rates"
   ]
  },
  {
   "cell_type": "markdown",
   "id": "c9270de7",
   "metadata": {},
   "source": [
    "From the ROC curve, we can calculate the area under the curve(AUC) whose value ranges from 0 to 1. You'll remember that the closer to 1, the better it is for our predictive modeling"
   ]
  },
  {
   "cell_type": "markdown",
   "id": "507e0ae0",
   "metadata": {},
   "source": [
    "To determine the ROC curve, first define the metrics"
   ]
  },
  {
   "cell_type": "code",
   "execution_count": 19,
   "id": "af3fd35f",
   "metadata": {},
   "outputs": [],
   "source": [
    "y_pred_proba=logreg.predict_proba(X_test) [::,1]"
   ]
  },
  {
   "cell_type": "markdown",
   "id": "c9a249d6",
   "metadata": {},
   "source": [
    "Then, calculate the true positive and false positive rates:"
   ]
  },
  {
   "cell_type": "code",
   "execution_count": 20,
   "id": "883964a9",
   "metadata": {},
   "outputs": [],
   "source": [
    "false_positive_rate, true_positive_rate, _ = metrics.roc_curve(y_test, y_pred_proba)"
   ]
  },
  {
   "cell_type": "markdown",
   "id": "f7149bf7",
   "metadata": {},
   "source": [
    "Next, calculate the AUC to see the model's performance:"
   ]
  },
  {
   "cell_type": "code",
   "execution_count": 21,
   "id": "7457bcf9",
   "metadata": {},
   "outputs": [],
   "source": [
    "auc= metrics.roc_auc_score(y_test, y_pred_proba)"
   ]
  },
  {
   "cell_type": "markdown",
   "id": "7ff0999b",
   "metadata": {},
   "source": [
    "Finally, plot the ROC curve:"
   ]
  },
  {
   "cell_type": "code",
   "execution_count": 22,
   "id": "86777906",
   "metadata": {},
   "outputs": [
    {
     "data": {
      "text/plain": [
       "<matplotlib.legend.Legend at 0x2831f2c8520>"
      ]
     },
     "execution_count": 22,
     "metadata": {},
     "output_type": "execute_result"
    },
    {
     "data": {
      "image/png": "[encoded data removed]",
      "text/plain": [
       "<Figure size 432x288 with 1 Axes>"
      ]
     },
     "metadata": {
      "needs_background": "light"
     },
     "output_type": "display_data"
    }
   ],
   "source": [
    "plt.plot(false_positive_rate, true_positive_rate,label=\"AUC=\"+str(auc))\n",
    "plt.title('ROC Curve')\n",
    "plt.ylabel('True Positive Rate')\n",
    "plt.xlabel('false Positive Rate')\n",
    "plt.legend(loc=4)"
   ]
  },
  {
   "cell_type": "raw",
   "id": "ad133fc9",
   "metadata": {},
   "source": [
    "The AUC is 0.94, meaning that the model did a great job:"
   ]
  },
  {
   "cell_type": "code",
   "execution_count": null,
   "id": "078cb484",
   "metadata": {},
   "outputs": [],
   "source": []
  }
 ],
 "metadata": {
  "kernelspec": {
   "display_name": "Python 3 (ipykernel)",
   "language": "python",
   "name": "python3"
  },
  "language_info": {
   "codemirror_mode": {
    "name": "ipython",
    "version": 3
   },
   "file_extension": ".py",
   "mimetype": "text/x-python",
   "name": "python",
   "nbconvert_exporter": "python",
   "pygments_lexer": "ipython3",
   "version": "3.9.7"
  }
 },
 "nbformat": 4,
 "nbformat_minor": 5
}
